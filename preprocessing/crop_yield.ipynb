{
 "cells": [
  {
   "cell_type": "markdown",
   "metadata": {},
   "source": [
    "## **Excel to CSV Aggregation**\n",
    "\n",
    "This notebook preprocesses crop statistics data from the **State Statistics Service of Ukraine (SSSU)** for the years **2013 to 2023** and combines them into a single CSV file."
   ]
  },
  {
   "cell_type": "code",
   "execution_count": null,
   "metadata": {},
   "outputs": [],
   "source": [
    "import os\n",
    "\n",
    "import numpy as np\n",
    "import pandas as pd\n",
    "import yaml"
   ]
  },
  {
   "cell_type": "code",
   "execution_count": 5,
   "metadata": {},
   "outputs": [],
   "source": [
    "# load mapping dictionary from yaml file\n",
    "with open('mapping.yaml', 'r', encoding='utf-8') as file:\n",
    "    mapping = yaml.safe_load(file)\n",
    "\n",
    "region_dict = mapping['region']\n",
    "crop_dict = mapping['crop']\n",
    "indicator_dict = mapping['indicator']"
   ]
  },
  {
   "cell_type": "code",
   "execution_count": null,
   "metadata": {},
   "outputs": [],
   "source": [
    "base_path = \"/home/scsi/Desktop/Sehoon/crop_yield/data/yield\"\n",
    "\n",
    "# List of .xlsx files\n",
    "file_name_array = [file for file in os.listdir(base_path) if file.endswith('.xlsx')]\n",
    "df_combined = pd.DataFrame()  # Initialize an empty DataFrame to store final data\n",
    "\n",
    "for file_name in file_name_array:\n",
    "    file_path = os.path.join(base_path, file_name)\n",
    "    year = file_name.split('.')[0].split('_')[-1]  # Extract year from file name\n",
    "\n",
    "    # Read Excel file, assuming a multi-index header\n",
    "    data = pd.read_excel(file_path, header=[0, 1])\n",
    "\n",
    "    # Set the first column (region name) as the index\n",
    "    data.set_index(data.columns[0], inplace=True)\n",
    "\n",
    "    # Convert data to long format\n",
    "    df_long = data.stack(level=[0, 1], future_stack=True).reset_index()\n",
    "\n",
    "    # Insert 'year' column\n",
    "    df_long.insert(1, 'year', year)\n",
    "    # Rename columns\n",
    "    df_long.columns = ['region', 'year', 'crop_type', 'indicator', 'value']\n",
    "\n",
    "    # Map region, crop, and indicator names to their respective IDs\n",
    "    df_long['region_id'] = df_long['region'].map(region_dict).apply(lambda x: x[0])\n",
    "    df_long['region_name'] = df_long['region'].map(region_dict).apply(lambda x: x[1])\n",
    "    df_long['crop_id'] = df_long['crop_type'].map(crop_dict)\n",
    "    df_long['indicator'] = df_long['indicator'].map(indicator_dict)\n",
    "\n",
    "    # Reorder columns\n",
    "    df_long = df_long[['region_id', 'region_name', 'year', 'crop_id', 'indicator', 'value']]\n",
    "\n",
    "    # Concatenate data from each file\n",
    "    df_combined = pd.concat([df_combined, df_long], ignore_index=True)\n",
    "\n",
    "# Replace special characters and convert to numeric values\n",
    "df_combined['value'] = df_combined['value'].replace(['...', '–'], np.nan)\n",
    "df_combined['value'] = df_combined['value'].replace('к', -1).fillna(0)\n",
    "df_combined['value'] = pd.to_numeric(df_combined['value'], errors='coerce')\n",
    "df_combined['year'] = pd.to_numeric(df_combined['year'], errors='coerce')\n",
    "\n",
    "# Use pivot table to reshape data\n",
    "pivot_df = df_combined.pivot_table(\n",
    "    index=['region_id', 'region_name', 'year', 'crop_id'],\n",
    "    columns='indicator',\n",
    "    values='value'\n",
    ").reset_index()\n",
    "\n",
    "print(pivot_df.dtypes)\n",
    "\n",
    "# Save DataFrame to CSV file\n",
    "pivot_df.to_csv('crop_yield.csv', index=False)"
   ]
  }
 ],
 "metadata": {
  "kernelspec": {
   "display_name": "crop",
   "language": "python",
   "name": "python3"
  },
  "language_info": {
   "codemirror_mode": {
    "name": "ipython",
    "version": 3
   },
   "file_extension": ".py",
   "mimetype": "text/x-python",
   "name": "python",
   "nbconvert_exporter": "python",
   "pygments_lexer": "ipython3",
   "version": "3.9.18"
  }
 },
 "nbformat": 4,
 "nbformat_minor": 2
}
